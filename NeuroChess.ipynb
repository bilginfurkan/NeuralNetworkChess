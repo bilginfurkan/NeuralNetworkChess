{
  "nbformat": 4,
  "nbformat_minor": 0,
  "metadata": {
    "colab": {
      "name": "NeuroChess",
      "provenance": [],
      "collapsed_sections": [],
      "toc_visible": true,
      "authorship_tag": "ABX9TyPD9XKZhN+JNKKuZP56tmLY"
    },
    "kernelspec": {
      "name": "python3",
      "display_name": "Python 3"
    },
    "accelerator": "GPU"
  },
  "cells": [
    {
      "cell_type": "markdown",
      "metadata": {
        "id": "a8Ic7Q1Ywycv"
      },
      "source": [
        "# Shared stuff"
      ]
    },
    {
      "cell_type": "markdown",
      "metadata": {
        "id": "xqdhFC8s499T"
      },
      "source": [
        "Mount Google Drive"
      ]
    },
    {
      "cell_type": "code",
      "metadata": {
        "id": "Q99hnvxxFMpr"
      },
      "source": [
        "from google.colab import drive\r\n",
        "drive.mount('/content/gdrive', force_remount=True)"
      ],
      "execution_count": null,
      "outputs": []
    },
    {
      "cell_type": "markdown",
      "metadata": {
        "id": "DWoAXi1m47os"
      },
      "source": [
        "Shared code for encoding & decoding chess stuff"
      ]
    },
    {
      "cell_type": "code",
      "metadata": {
        "id": "ONANwF3Rw3xm"
      },
      "source": [
        "import chess\r\n",
        "\r\n",
        "x = 0\r\n",
        "MOVES = {}\r\n",
        "REVERSE_MOVES = {}\r\n",
        "\r\n",
        "for i in range(64):\r\n",
        "  for j in range(64):\r\n",
        "    MOVES[x] = (i, j)\r\n",
        "    REVERSE_MOVES[(i, j)] = x\r\n",
        "    x += 1\r\n",
        "\r\n",
        "POSSIBLE_MOVE_COUNT = x\r\n",
        "\r\n",
        "def piece_to_int(piece):\r\n",
        "  PIECE_MAP = {\r\n",
        "      \"p\" : 1,\r\n",
        "      \"b\" : 2,\r\n",
        "      \"n\" : 3,\r\n",
        "      \"r\" : 4,\r\n",
        "      \"q\" : 5,\r\n",
        "      \"k\" : 6\r\n",
        "  }\r\n",
        "\r\n",
        "  return 0 if piece is None else PIECE_MAP[piece.symbol().lower()]\r\n",
        "\r\n",
        "def encode_board(board):\r\n",
        "  features = []\r\n",
        "\r\n",
        "  for i in range(64): #7 features\r\n",
        "    piece = board.piece_at(i)\r\n",
        "    features.append(piece_to_int(piece))\r\n",
        "\r\n",
        "  features.append(7 if board.turn else 8) #2 features here\r\n",
        "  features.append(9 if board.has_legal_en_passant() else 10) #2 features here\r\n",
        "\r\n",
        "  features.append(11 if board.has_kingside_castling_rights(board.turn) else 12) #2 features here\r\n",
        "  features.append(13 if board.has_queenside_castling_rights(board.turn) else 14) #2 features here\r\n",
        "\r\n",
        "  features = tf.one_hot(features, 7 + 2 + 2 + 2 + 2, dtype=np.uint8)\r\n",
        "\r\n",
        "  return features\r\n",
        "\r\n",
        "def encode_move(move):\r\n",
        "  return tf.one_hot([ REVERSE_MOVES[(move.from_square, move.to_square)] ], POSSIBLE_MOVE_COUNT + 1, dtype=np.uint8)"
      ],
      "execution_count": null,
      "outputs": []
    },
    {
      "cell_type": "markdown",
      "metadata": {
        "id": "P3WiRow8jdye"
      },
      "source": [
        "# For generating data\r\n",
        "\r\n",
        "Download dependencies"
      ]
    },
    {
      "cell_type": "code",
      "metadata": {
        "id": "IwJjmHO_OMSW"
      },
      "source": [
        "!pip install python-chess\r\n",
        "\r\n",
        "!wget https://cdn.lbryplayer.xyz/api/v4/streams/free/Lichess-Elite-Database/b0f01856c521a5f782f8ce4ec6275054e71cf664/3a71ac?download=true -O db.7z"
      ],
      "execution_count": null,
      "outputs": []
    },
    {
      "cell_type": "markdown",
      "metadata": {
        "id": "KTfz-p__jfcN"
      },
      "source": [
        "Unzip chess games"
      ]
    },
    {
      "cell_type": "code",
      "metadata": {
        "id": "zccgLT1yhQnm"
      },
      "source": [
        "!mkdir db\r\n",
        "!7z e db.7z -odb/"
      ],
      "execution_count": null,
      "outputs": []
    },
    {
      "cell_type": "markdown",
      "metadata": {
        "id": "sOa8_PgEX0RZ"
      },
      "source": [
        "Generate training data"
      ]
    },
    {
      "cell_type": "code",
      "metadata": {
        "id": "c15vetMaJSeo"
      },
      "source": [
        "!mkdir TRAIN\r\n",
        "\r\n",
        "import gc\r\n",
        "import tensorflow as tf\r\n",
        "import numpy as np\r\n",
        "import os\r\n",
        "import chess.pgn\r\n",
        "\r\n",
        "gc.collect() #Run GC\r\n",
        "\r\n",
        "PATH = './db/'\r\n",
        "SAVE_BATCH_SIZE = 8000\r\n",
        "MAX_GAME_COUNT = 500000\r\n",
        "\r\n",
        "files = os.listdir(PATH)\r\n",
        "\r\n",
        "game_count = 0\r\n",
        "current_batch = 0\r\n",
        "X = []\r\n",
        "Y = []\r\n",
        "\r\n",
        "def process_file(f):\r\n",
        "  global game_count, current_batch, X, Y\r\n",
        "\r\n",
        "  while True:\r\n",
        "    game_count += 1\r\n",
        "\r\n",
        "    if game_count % SAVE_BATCH_SIZE == 0 and game_count != 0: #Save batch\r\n",
        "      current_batch += 1\r\n",
        "      save_batch(X, Y, current_batch)\r\n",
        "      print(f'Saving batch #{current_batch}')\r\n",
        "\r\n",
        "      #Reset\r\n",
        "      X = [] \r\n",
        "      Y = []\r\n",
        "      gc.collect() #Run GC\r\n",
        "\r\n",
        "    \r\n",
        "    if game_count >= MAX_GAME_COUNT:\r\n",
        "      return\r\n",
        "\r\n",
        "    game = chess.pgn.read_game(f)\r\n",
        "    \r\n",
        "    if game is None:\r\n",
        "      break\r\n",
        "\r\n",
        "    print('Processing game', game_count)\r\n",
        "\r\n",
        "    board = game.board()\r\n",
        "    \r\n",
        "    for move in game.main_line():\r\n",
        "      X.append(encode_board(board))\r\n",
        "      Y.append(encode_move(move))\r\n",
        "      board.push(move)\r\n",
        "\r\n",
        "def save_batch(X, Y, batch):\r\n",
        "  np.savez_compressed(f'TRAIN/{batch}', x=X, y=Y)\r\n",
        "\r\n",
        "\r\n",
        "for file in files:\r\n",
        "  if not file.endswith('.pgn'):\r\n",
        "    continue\r\n",
        "\r\n",
        "  with open(PATH + file, 'r') as f:\r\n",
        "    if game_count >= MAX_GAME_COUNT:\r\n",
        "      break\r\n",
        "\r\n",
        "    print('Processing file', file)\r\n",
        "    process_file(f)\r\n",
        "\r\n",
        "print('Process done')"
      ],
      "execution_count": null,
      "outputs": []
    },
    {
      "cell_type": "markdown",
      "metadata": {
        "id": "Gr_jHlrsjZSF"
      },
      "source": [
        "Copy training data to Google Drive"
      ]
    },
    {
      "cell_type": "code",
      "metadata": {
        "id": "PEgcaPe3idZ_"
      },
      "source": [
        "!zip train.zip -5 -r TRAIN/\r\n",
        "!mv train.zip /content/gdrive/MyDrive"
      ],
      "execution_count": null,
      "outputs": []
    },
    {
      "cell_type": "markdown",
      "metadata": {
        "id": "zbexk3CTDKfU"
      },
      "source": [
        "# For training\r\n",
        "\r\n",
        "Fetch training data from Google Drive then unzip it."
      ]
    },
    {
      "cell_type": "code",
      "metadata": {
        "id": "ulS_tvyNDUrC"
      },
      "source": [
        "!cp /content/gdrive/MyDrive/train.zip .\r\n",
        "!unzip -o train.zip"
      ],
      "execution_count": null,
      "outputs": []
    },
    {
      "cell_type": "markdown",
      "metadata": {
        "id": "B5slHXKpHEzi"
      },
      "source": [
        "And run training code (can take some time)"
      ]
    },
    {
      "cell_type": "code",
      "metadata": {
        "id": "6maBlVzDXzvK"
      },
      "source": [
        "%tensorflow_version 2.x\r\n",
        "import tensorflow as tf\r\n",
        "import numpy as np\r\n",
        "import os\r\n",
        "import gc\r\n",
        "\r\n",
        "gc.collect() #Run GC\r\n",
        "\r\n",
        "train_data = os.listdir('TRAIN/')\r\n",
        "\r\n",
        "print(\"TensorFlow version: {}\".format(tf.__version__))\r\n",
        "print(\"Num GPUs Available: \", len(tf.config.list_physical_devices('GPU')))\r\n",
        "\r\n",
        "loss_object = tf.keras.losses.BinaryCrossentropy(from_logits=True)\r\n",
        "model = tf.keras.Sequential([\r\n",
        "  tf.keras.layers.Dense(1020, activation=tf.nn.leaky_relu, input_shape=(1020, )), \r\n",
        "  tf.keras.layers.Dense(750, activation=tf.nn.leaky_relu),\r\n",
        "  tf.keras.layers.Dense(750, activation=tf.nn.leaky_relu),\r\n",
        "  tf.keras.layers.Dense(500, activation=tf.nn.leaky_relu),\r\n",
        "  tf.keras.layers.Dense(4097)\r\n",
        "])\r\n",
        "\r\n",
        "model.compile(optimizer='Adam', loss=loss_object)\r\n",
        "\r\n",
        "def loss(model, x, y, training):\r\n",
        "  y_ = model(x, training=training)\r\n",
        "  return loss_object(y_true=y, y_pred=y_)\r\n",
        "\r\n",
        "def train_batch(X, Y):\r\n",
        "  global model\r\n",
        "  model.fit(x=X, y=Y)\r\n",
        "  pass\r\n",
        "\r\n",
        "X = []\r\n",
        "Y = []\r\n",
        "\r\n",
        "for file in train_data:\r\n",
        "  gc.collect() #Run GC\r\n",
        "  \r\n",
        "  print('Loading data...')\r\n",
        "  data = np.load('TRAIN/' + file)\r\n",
        "  X, Y = data['x'], data['y']\r\n",
        "\r\n",
        "  X = X.reshape((len(X), 1020, ))\r\n",
        "  Y = Y.reshape((len(Y), 4097, ))\r\n",
        "\r\n",
        "  print('Training for file', file)\r\n",
        "\r\n",
        "  train_batch(X, Y)\r\n",
        "\r\n",
        "print('Training done, saving model')\r\n",
        "model.save('trained_model', save_format='h5', overwrite=True)\r\n",
        "\r\n",
        "\r\n"
      ],
      "execution_count": null,
      "outputs": []
    },
    {
      "cell_type": "markdown",
      "metadata": {
        "id": "J9yUDR5yyuWd"
      },
      "source": [
        "Zip model and copy it to Google Drive"
      ]
    },
    {
      "cell_type": "code",
      "metadata": {
        "id": "BQwzY5BHvf5c"
      },
      "source": [
        "!zip model.zip trained_model\r\n",
        "!mv model.zip /content/gdrive/MyDrive/"
      ],
      "execution_count": null,
      "outputs": []
    },
    {
      "cell_type": "markdown",
      "metadata": {
        "id": "OOLZEc6pwD_w"
      },
      "source": [
        "# Playing with Model"
      ]
    },
    {
      "cell_type": "markdown",
      "metadata": {
        "id": "aDwSnnTZN7i1"
      },
      "source": [
        "Fetch and unzip the model"
      ]
    },
    {
      "cell_type": "code",
      "metadata": {
        "id": "8pSCiiOHw6TW",
        "colab": {
          "base_uri": "https://localhost:8080/"
        },
        "outputId": "83a919d7-6fad-4695-c48c-21b1f2fc10f5"
      },
      "source": [
        "!cp /content/gdrive/MyDrive/model.zip .\r\n",
        "!unzip model.zip"
      ],
      "execution_count": null,
      "outputs": [
        {
          "output_type": "stream",
          "text": [
            "Archive:  model.zip\n",
            "  inflating: trained_model           \n"
          ],
          "name": "stdout"
        }
      ]
    },
    {
      "cell_type": "markdown",
      "metadata": {
        "id": "5Faeat99N5yO"
      },
      "source": [
        "Load model"
      ]
    },
    {
      "cell_type": "code",
      "metadata": {
        "id": "OqN9R4TgN5Ft"
      },
      "source": [
        "%tensorflow_version 2.x\r\n",
        "import tensorflow as tf\r\n",
        "import numpy as np\r\n",
        "import chess\r\n",
        "import time\r\n",
        "\r\n",
        "model = tf.keras.models.load_model('trained_model', custom_objects={'leaky_relu': tf.nn.leaky_relu})\r\n",
        "\r\n",
        "model.summary()"
      ],
      "execution_count": null,
      "outputs": []
    },
    {
      "cell_type": "code",
      "metadata": {
        "id": "9K3fxUH2wIBw"
      },
      "source": [
        "def predict(board):\r\n",
        "  X = np.array(encode_board(board))\r\n",
        "  X = X.reshape((1, 1020, ))\r\n",
        "  org_pred = list(model.predict(X)[0])\r\n",
        "\r\n",
        "  pred = list(org_pred)\r\n",
        "\r\n",
        "  pred.sort()\r\n",
        "  pred = pred[::-1] #reverse array\r\n",
        "\r\n",
        "  i = 0\r\n",
        "  for p in pred:\r\n",
        "    if i >= len(MOVES):\r\n",
        "      continue\r\n",
        "\r\n",
        "    move_from, move_to = MOVES[org_pred.index(p)]\r\n",
        "    move = chess.Move(move_from, move_to)\r\n",
        "\r\n",
        "    if move in board.legal_moves:\r\n",
        "      break\r\n",
        "\r\n",
        "    i += 1\r\n",
        "\r\n",
        "  return move"
      ],
      "execution_count": null,
      "outputs": []
    },
    {
      "cell_type": "code",
      "metadata": {
        "id": "BtjhzY9FAY8H"
      },
      "source": [
        "import time\r\n",
        "from IPython.display import clear_output, display\r\n",
        "\r\n",
        "board = chess.Board()\r\n",
        "\r\n",
        "while True:\r\n",
        "  if board.is_game_over():\r\n",
        "    print(\"Game over\")\r\n",
        "    break\r\n",
        "  board.push(predict(board))\r\n",
        "  display(board)\r\n",
        "  m = input(\"Move:\")\r\n",
        "  board.push(chess.Move.from_uci(m))\r\n",
        "  clear_output(wait=True)\r\n",
        "  \r\n"
      ],
      "execution_count": null,
      "outputs": []
    }
  ]
}